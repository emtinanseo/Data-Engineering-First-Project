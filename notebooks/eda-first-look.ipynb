{
 "cells": [
  {
   "cell_type": "code",
   "execution_count": 53,
   "metadata": {},
   "outputs": [],
   "source": [
    "import os, sys\n",
    "import pandas as pd\n",
    "import matplotlib.pyplot as plt"
   ]
  },
  {
   "cell_type": "markdown",
   "metadata": {},
   "source": [
    "# First Look at the data"
   ]
  },
  {
   "cell_type": "markdown",
   "metadata": {},
   "source": [
    "Data sourced from https://open-traffic.epfl.ch/index.php/downloads/#1599047632394-7ca81bff-5221 \n",
    "\n",
    "\n",
    "### Data Description:\n",
    "Each.csv file has the following:\n",
    "\n",
    "- Each row represents the data of a single vehicle\n",
    "- The first 4 columns include information about the trajectory\n",
    "    - track_id: unique trackID,  \n",
    "    - type: type of vehicle,\n",
    "    - traveled_d: distance traveled in meters,\n",
    "    - avg_speed: average speed of the vehicle in km/h\n",
    "    \n",
    "- The next columns contain information at specific time, repeated every 6 columns in this order\n",
    "    - lat: latitude, at time column i+5\n",
    "    - lon: logitude, at time column i+4\n",
    "    - speed:  Speed is in km/h, at time column i+3\n",
    "    - lon_acc: Longitudinal Acceleration in m/sec2, at time column i+2 \n",
    "    - lat_acc: Lateral Acceleration in m/sec2, at time column i+1\n",
    "    - time: time in seconds"
   ]
  },
  {
   "cell_type": "markdown",
   "metadata": {},
   "source": [
    "### Reading the data"
   ]
  },
  {
   "cell_type": "code",
   "execution_count": 7,
   "metadata": {},
   "outputs": [],
   "source": [
    "# data = pd.read_csv(\"../data/20181024_d1_0830_0900.csv\", sep =';')\n",
    "\n",
    "# data.head(5)"
   ]
  },
  {
   "cell_type": "markdown",
   "metadata": {},
   "source": [
    "We cannot read the data as a simple dataframe, because the rows don't contain equal numbers of columns."
   ]
  },
  {
   "cell_type": "code",
   "execution_count": 2,
   "metadata": {},
   "outputs": [
    {
     "name": "stdout",
     "output_type": "stream",
     "text": [
      "max number of columns:  122831 \n",
      "min number of columns:  10\n"
     ]
    }
   ],
   "source": [
    "data_file = \"../data/20181024_d1_0830_0900.csv\"\n",
    "\n",
    "sep = ';'\n",
    "\n",
    "number_of_columns = []\n",
    "\n",
    "with open(data_file, 'r') as file:\n",
    "    lines = file.readlines()\n",
    "\n",
    "    for line in lines:\n",
    "        column_count = len(line.strip('\\n').strip(' ').split(sep))\n",
    "\n",
    "        number_of_columns.append(column_count)\n",
    "\n",
    "print(\"max number of columns: \", max(number_of_columns), \"\\nmin number of columns: \", min(number_of_columns))"
   ]
  },
  {
   "cell_type": "code",
   "execution_count": 3,
   "metadata": {},
   "outputs": [
    {
     "name": "stdout",
     "output_type": "stream",
     "text": [
      "['track_id', 'type', 'traveled_d', 'avg_speed', 'lat', 'lon', 'speed', 'lon_acc', 'lat_acc', 'time']\n"
     ]
    }
   ],
   "source": [
    "columns = lines[0].replace('\\n','').replace(' ', '').split(sep)\n",
    "print(columns)"
   ]
  },
  {
   "cell_type": "markdown",
   "metadata": {},
   "source": [
    "It makes sense (in a relational database) to split this data into two tables:\n",
    "\n",
    "- vehicles: contains a unique row for each tack. contains unique values of first 4 columns (track_id, type, traveled_d, avg_speed)\n",
    "\n",
    "- trajectories: contains information of tracks at various timestamps, identified by a unique combination of track_id + time."
   ]
  },
  {
   "cell_type": "code",
   "execution_count": 4,
   "metadata": {},
   "outputs": [],
   "source": [
    "col_vehicle = columns[:4]\n",
    "col_trajectory = columns[:1] + columns[4:]"
   ]
  },
  {
   "cell_type": "code",
   "execution_count": 34,
   "metadata": {},
   "outputs": [],
   "source": [
    "data_file = \"../data/20181024_d1_0830_0900.csv\"\n",
    "\n",
    "sep = ';'\n",
    "\n",
    "vehicle_list = []\n",
    "trajectory_list = []\n",
    "\n",
    "with open(data_file, 'r') as file:\n",
    "    lines = file.readlines()\n",
    "    # first line is column names\n",
    "    lines = lines[1:]\n",
    "\n",
    "    for indx, line in enumerate(lines):\n",
    "        # remove trailing spaces\n",
    "        line = line.strip('\\n').strip(' ')\n",
    "\n",
    "        # split the line into seperate records\n",
    "        values = [value.strip(' ') for value in line.split(sep) if value]\n",
    "\n",
    "        # first 4 values are vehicle data and the rest are trajectory data   \n",
    "        vehicle_list.append(values[:4])\n",
    "\n",
    "        traj = values[4:]\n",
    "        #number of timestamps\n",
    "        stamps= int(len(traj)/6)\n",
    "        \n",
    "        try:\n",
    "            # insert trajectory data    \n",
    "            assert(len(traj)%6 == 0)\n",
    "\n",
    "            trajectory_list = trajectory_list + [values[:1] + traj[6*i: 6*(i+1)] for i in range(stamps)]\n",
    "\n",
    "        except:\n",
    "            print(f\"Error in reading trajectory data at line {indx}\")\n",
    "            continue"
   ]
  },
  {
   "cell_type": "code",
   "execution_count": 35,
   "metadata": {},
   "outputs": [
    {
     "name": "stdout",
     "output_type": "stream",
     "text": [
      "922\n"
     ]
    },
    {
     "data": {
      "text/plain": [
       "{4}"
      ]
     },
     "execution_count": 35,
     "metadata": {},
     "output_type": "execute_result"
    }
   ],
   "source": [
    "print(len(vehicle_list))\n",
    "set([len(x) for x in vehicle_list])"
   ]
  },
  {
   "cell_type": "code",
   "execution_count": 37,
   "metadata": {},
   "outputs": [
    {
     "name": "stdout",
     "output_type": "stream",
     "text": [
      "1446887\n"
     ]
    },
    {
     "data": {
      "text/plain": [
       "{7}"
      ]
     },
     "execution_count": 37,
     "metadata": {},
     "output_type": "execute_result"
    }
   ],
   "source": [
    "print(len(trajectory_list))\n",
    "set([len(x) for x in trajectory_list])"
   ]
  },
  {
   "cell_type": "code",
   "execution_count": 39,
   "metadata": {},
   "outputs": [
    {
     "data": {
      "text/html": [
       "<div>\n",
       "<style scoped>\n",
       "    .dataframe tbody tr th:only-of-type {\n",
       "        vertical-align: middle;\n",
       "    }\n",
       "\n",
       "    .dataframe tbody tr th {\n",
       "        vertical-align: top;\n",
       "    }\n",
       "\n",
       "    .dataframe thead th {\n",
       "        text-align: right;\n",
       "    }\n",
       "</style>\n",
       "<table border=\"1\" class=\"dataframe\">\n",
       "  <thead>\n",
       "    <tr style=\"text-align: right;\">\n",
       "      <th></th>\n",
       "      <th>track_id</th>\n",
       "      <th>type</th>\n",
       "      <th>traveled_d</th>\n",
       "      <th>avg_speed</th>\n",
       "    </tr>\n",
       "  </thead>\n",
       "  <tbody>\n",
       "    <tr>\n",
       "      <th>0</th>\n",
       "      <td>1</td>\n",
       "      <td>Car</td>\n",
       "      <td>48.85</td>\n",
       "      <td>9.770344</td>\n",
       "    </tr>\n",
       "    <tr>\n",
       "      <th>1</th>\n",
       "      <td>2</td>\n",
       "      <td>Motorcycle</td>\n",
       "      <td>98.09</td>\n",
       "      <td>19.839417</td>\n",
       "    </tr>\n",
       "    <tr>\n",
       "      <th>2</th>\n",
       "      <td>3</td>\n",
       "      <td>Motorcycle</td>\n",
       "      <td>63.80</td>\n",
       "      <td>18.228752</td>\n",
       "    </tr>\n",
       "    <tr>\n",
       "      <th>3</th>\n",
       "      <td>4</td>\n",
       "      <td>Motorcycle</td>\n",
       "      <td>145.72</td>\n",
       "      <td>26.229014</td>\n",
       "    </tr>\n",
       "    <tr>\n",
       "      <th>4</th>\n",
       "      <td>5</td>\n",
       "      <td>Motorcycle</td>\n",
       "      <td>138.01</td>\n",
       "      <td>24.841425</td>\n",
       "    </tr>\n",
       "  </tbody>\n",
       "</table>\n",
       "</div>"
      ],
      "text/plain": [
       "  track_id        type traveled_d  avg_speed\n",
       "0        1         Car      48.85   9.770344\n",
       "1        2  Motorcycle      98.09  19.839417\n",
       "2        3  Motorcycle      63.80  18.228752\n",
       "3        4  Motorcycle     145.72  26.229014\n",
       "4        5  Motorcycle     138.01  24.841425"
      ]
     },
     "execution_count": 39,
     "metadata": {},
     "output_type": "execute_result"
    }
   ],
   "source": [
    "df_vehicle = pd.DataFrame(data= vehicle_list,columns=col_vehicle)\n",
    "\n",
    "df_vehicle.head()"
   ]
  },
  {
   "cell_type": "code",
   "execution_count": 40,
   "metadata": {},
   "outputs": [
    {
     "data": {
      "text/html": [
       "<div>\n",
       "<style scoped>\n",
       "    .dataframe tbody tr th:only-of-type {\n",
       "        vertical-align: middle;\n",
       "    }\n",
       "\n",
       "    .dataframe tbody tr th {\n",
       "        vertical-align: top;\n",
       "    }\n",
       "\n",
       "    .dataframe thead th {\n",
       "        text-align: right;\n",
       "    }\n",
       "</style>\n",
       "<table border=\"1\" class=\"dataframe\">\n",
       "  <thead>\n",
       "    <tr style=\"text-align: right;\">\n",
       "      <th></th>\n",
       "      <th>track_id</th>\n",
       "      <th>lat</th>\n",
       "      <th>lon</th>\n",
       "      <th>speed</th>\n",
       "      <th>lon_acc</th>\n",
       "      <th>lat_acc</th>\n",
       "      <th>time</th>\n",
       "    </tr>\n",
       "  </thead>\n",
       "  <tbody>\n",
       "    <tr>\n",
       "      <th>0</th>\n",
       "      <td>1</td>\n",
       "      <td>37.977391</td>\n",
       "      <td>23.737688</td>\n",
       "      <td>4.9178</td>\n",
       "      <td>0.0518</td>\n",
       "      <td>-0.0299</td>\n",
       "      <td>0.000000</td>\n",
       "    </tr>\n",
       "    <tr>\n",
       "      <th>1</th>\n",
       "      <td>1</td>\n",
       "      <td>37.977391</td>\n",
       "      <td>23.737688</td>\n",
       "      <td>4.9207</td>\n",
       "      <td>-0.0124</td>\n",
       "      <td>-0.0354</td>\n",
       "      <td>0.040000</td>\n",
       "    </tr>\n",
       "    <tr>\n",
       "      <th>2</th>\n",
       "      <td>1</td>\n",
       "      <td>37.977391</td>\n",
       "      <td>23.737688</td>\n",
       "      <td>4.9160</td>\n",
       "      <td>-0.0519</td>\n",
       "      <td>-0.0413</td>\n",
       "      <td>0.080000</td>\n",
       "    </tr>\n",
       "    <tr>\n",
       "      <th>3</th>\n",
       "      <td>1</td>\n",
       "      <td>37.977390</td>\n",
       "      <td>23.737688</td>\n",
       "      <td>4.9057</td>\n",
       "      <td>-0.0914</td>\n",
       "      <td>-0.0478</td>\n",
       "      <td>0.120000</td>\n",
       "    </tr>\n",
       "    <tr>\n",
       "      <th>4</th>\n",
       "      <td>1</td>\n",
       "      <td>37.977390</td>\n",
       "      <td>23.737689</td>\n",
       "      <td>4.8871</td>\n",
       "      <td>-0.1679</td>\n",
       "      <td>-0.0550</td>\n",
       "      <td>0.160000</td>\n",
       "    </tr>\n",
       "  </tbody>\n",
       "</table>\n",
       "</div>"
      ],
      "text/plain": [
       "  track_id        lat        lon   speed  lon_acc  lat_acc      time\n",
       "0        1  37.977391  23.737688  4.9178   0.0518  -0.0299  0.000000\n",
       "1        1  37.977391  23.737688  4.9207  -0.0124  -0.0354  0.040000\n",
       "2        1  37.977391  23.737688  4.9160  -0.0519  -0.0413  0.080000\n",
       "3        1  37.977390  23.737688  4.9057  -0.0914  -0.0478  0.120000\n",
       "4        1  37.977390  23.737689  4.8871  -0.1679  -0.0550  0.160000"
      ]
     },
     "execution_count": 40,
     "metadata": {},
     "output_type": "execute_result"
    }
   ],
   "source": [
    "df_trajectory = pd.DataFrame(data= trajectory_list ,columns=col_trajectory)\n",
    "\n",
    "df_trajectory.head()"
   ]
  },
  {
   "cell_type": "code",
   "execution_count": 41,
   "metadata": {},
   "outputs": [],
   "source": [
    "# df_vehicle.to_csv(\"../data/20181024_d1_0830_0900_vehicles.csv\", index= False)\n",
    "\n",
    "# df_trajectory.to_csv(\"../data/20181024_d1_0830_0900_trajectories.csv\", index= False)"
   ]
  },
  {
   "cell_type": "code",
   "execution_count": 42,
   "metadata": {},
   "outputs": [],
   "source": [
    "# df_vehicle = pd.read_csv(\"../data/20181024_d1_0830_0900_vehicles.csv\")\n",
    "\n",
    "# df_trajectory = pd.read_csv(\"../data/20181024_d1_0830_0900_trajectories.csv\")"
   ]
  },
  {
   "cell_type": "markdown",
   "metadata": {},
   "source": [
    "### Basic Exploration of Data"
   ]
  },
  {
   "cell_type": "code",
   "execution_count": 43,
   "metadata": {},
   "outputs": [
    {
     "name": "stdout",
     "output_type": "stream",
     "text": [
      "<class 'pandas.core.frame.DataFrame'>\n",
      "RangeIndex: 922 entries, 0 to 921\n",
      "Data columns (total 4 columns):\n",
      " #   Column      Non-Null Count  Dtype  \n",
      "---  ------      --------------  -----  \n",
      " 0   track_id    922 non-null    int64  \n",
      " 1   type        922 non-null    object \n",
      " 2   traveled_d  922 non-null    float64\n",
      " 3   avg_speed   922 non-null    float64\n",
      "dtypes: float64(2), int64(1), object(1)\n",
      "memory usage: 28.9+ KB\n"
     ]
    }
   ],
   "source": [
    "df_vehicle.info()"
   ]
  },
  {
   "cell_type": "code",
   "execution_count": 44,
   "metadata": {},
   "outputs": [
    {
     "name": "stdout",
     "output_type": "stream",
     "text": [
      "<class 'pandas.core.frame.DataFrame'>\n",
      "RangeIndex: 1446887 entries, 0 to 1446886\n",
      "Data columns (total 7 columns):\n",
      " #   Column    Non-Null Count    Dtype  \n",
      "---  ------    --------------    -----  \n",
      " 0   track_id  1446887 non-null  int64  \n",
      " 1   lat       1446887 non-null  float64\n",
      " 2   lon       1446887 non-null  float64\n",
      " 3   speed     1446887 non-null  float64\n",
      " 4   lon_acc   1446887 non-null  float64\n",
      " 5   lat_acc   1446887 non-null  float64\n",
      " 6   time      1446887 non-null  float64\n",
      "dtypes: float64(6), int64(1)\n",
      "memory usage: 77.3 MB\n"
     ]
    }
   ],
   "source": [
    "df_trajectory.info()"
   ]
  },
  {
   "cell_type": "code",
   "execution_count": 45,
   "metadata": {},
   "outputs": [
    {
     "data": {
      "text/html": [
       "<div>\n",
       "<style scoped>\n",
       "    .dataframe tbody tr th:only-of-type {\n",
       "        vertical-align: middle;\n",
       "    }\n",
       "\n",
       "    .dataframe tbody tr th {\n",
       "        vertical-align: top;\n",
       "    }\n",
       "\n",
       "    .dataframe thead th {\n",
       "        text-align: right;\n",
       "    }\n",
       "</style>\n",
       "<table border=\"1\" class=\"dataframe\">\n",
       "  <thead>\n",
       "    <tr style=\"text-align: right;\">\n",
       "      <th></th>\n",
       "      <th>track_id</th>\n",
       "      <th>traveled_d</th>\n",
       "      <th>avg_speed</th>\n",
       "    </tr>\n",
       "  </thead>\n",
       "  <tbody>\n",
       "    <tr>\n",
       "      <th>count</th>\n",
       "      <td>922.000000</td>\n",
       "      <td>922.000000</td>\n",
       "      <td>922.000000</td>\n",
       "    </tr>\n",
       "    <tr>\n",
       "      <th>mean</th>\n",
       "      <td>461.500000</td>\n",
       "      <td>289.670954</td>\n",
       "      <td>21.442594</td>\n",
       "    </tr>\n",
       "    <tr>\n",
       "      <th>std</th>\n",
       "      <td>266.302773</td>\n",
       "      <td>156.386219</td>\n",
       "      <td>10.812071</td>\n",
       "    </tr>\n",
       "    <tr>\n",
       "      <th>min</th>\n",
       "      <td>1.000000</td>\n",
       "      <td>9.370000</td>\n",
       "      <td>0.096770</td>\n",
       "    </tr>\n",
       "    <tr>\n",
       "      <th>25%</th>\n",
       "      <td>231.250000</td>\n",
       "      <td>169.640000</td>\n",
       "      <td>13.817063</td>\n",
       "    </tr>\n",
       "    <tr>\n",
       "      <th>50%</th>\n",
       "      <td>461.500000</td>\n",
       "      <td>283.355000</td>\n",
       "      <td>19.847800</td>\n",
       "    </tr>\n",
       "    <tr>\n",
       "      <th>75%</th>\n",
       "      <td>691.750000</td>\n",
       "      <td>459.822500</td>\n",
       "      <td>28.778046</td>\n",
       "    </tr>\n",
       "    <tr>\n",
       "      <th>max</th>\n",
       "      <td>922.000000</td>\n",
       "      <td>502.330000</td>\n",
       "      <td>52.992695</td>\n",
       "    </tr>\n",
       "  </tbody>\n",
       "</table>\n",
       "</div>"
      ],
      "text/plain": [
       "         track_id  traveled_d   avg_speed\n",
       "count  922.000000  922.000000  922.000000\n",
       "mean   461.500000  289.670954   21.442594\n",
       "std    266.302773  156.386219   10.812071\n",
       "min      1.000000    9.370000    0.096770\n",
       "25%    231.250000  169.640000   13.817063\n",
       "50%    461.500000  283.355000   19.847800\n",
       "75%    691.750000  459.822500   28.778046\n",
       "max    922.000000  502.330000   52.992695"
      ]
     },
     "execution_count": 45,
     "metadata": {},
     "output_type": "execute_result"
    }
   ],
   "source": [
    "# basic statistics of tracks\n",
    "\n",
    "df_vehicle.describe()"
   ]
  },
  {
   "cell_type": "code",
   "execution_count": 46,
   "metadata": {},
   "outputs": [
    {
     "data": {
      "text/html": [
       "<div>\n",
       "<style scoped>\n",
       "    .dataframe tbody tr th:only-of-type {\n",
       "        vertical-align: middle;\n",
       "    }\n",
       "\n",
       "    .dataframe tbody tr th {\n",
       "        vertical-align: top;\n",
       "    }\n",
       "\n",
       "    .dataframe thead th {\n",
       "        text-align: right;\n",
       "    }\n",
       "</style>\n",
       "<table border=\"1\" class=\"dataframe\">\n",
       "  <thead>\n",
       "    <tr style=\"text-align: right;\">\n",
       "      <th></th>\n",
       "      <th>track_id</th>\n",
       "      <th>lat</th>\n",
       "      <th>lon</th>\n",
       "      <th>speed</th>\n",
       "      <th>lon_acc</th>\n",
       "      <th>lat_acc</th>\n",
       "      <th>time</th>\n",
       "    </tr>\n",
       "  </thead>\n",
       "  <tbody>\n",
       "    <tr>\n",
       "      <th>count</th>\n",
       "      <td>1.446887e+06</td>\n",
       "      <td>1.446887e+06</td>\n",
       "      <td>1.446887e+06</td>\n",
       "      <td>1.446887e+06</td>\n",
       "      <td>1.446887e+06</td>\n",
       "      <td>1.446887e+06</td>\n",
       "      <td>1.446887e+06</td>\n",
       "    </tr>\n",
       "    <tr>\n",
       "      <th>mean</th>\n",
       "      <td>4.199783e+02</td>\n",
       "      <td>3.797881e+01</td>\n",
       "      <td>2.373660e+01</td>\n",
       "      <td>1.664504e+01</td>\n",
       "      <td>-4.706493e-03</td>\n",
       "      <td>4.248032e-02</td>\n",
       "      <td>4.150876e+02</td>\n",
       "    </tr>\n",
       "    <tr>\n",
       "      <th>std</th>\n",
       "      <td>2.536363e+02</td>\n",
       "      <td>9.283493e-04</td>\n",
       "      <td>8.656107e-04</td>\n",
       "      <td>1.554383e+01</td>\n",
       "      <td>8.257478e-01</td>\n",
       "      <td>4.155610e-01</td>\n",
       "      <td>2.392626e+02</td>\n",
       "    </tr>\n",
       "    <tr>\n",
       "      <th>min</th>\n",
       "      <td>1.000000e+00</td>\n",
       "      <td>3.797685e+01</td>\n",
       "      <td>2.373441e+01</td>\n",
       "      <td>0.000000e+00</td>\n",
       "      <td>-3.243770e+01</td>\n",
       "      <td>-8.259700e+00</td>\n",
       "      <td>0.000000e+00</td>\n",
       "    </tr>\n",
       "    <tr>\n",
       "      <th>25%</th>\n",
       "      <td>2.000000e+02</td>\n",
       "      <td>3.797815e+01</td>\n",
       "      <td>2.373590e+01</td>\n",
       "      <td>0.000000e+00</td>\n",
       "      <td>-2.267000e-01</td>\n",
       "      <td>-3.090000e-02</td>\n",
       "      <td>2.008200e+02</td>\n",
       "    </tr>\n",
       "    <tr>\n",
       "      <th>50%</th>\n",
       "      <td>4.070000e+02</td>\n",
       "      <td>3.797879e+01</td>\n",
       "      <td>2.373656e+01</td>\n",
       "      <td>1.584690e+01</td>\n",
       "      <td>0.000000e+00</td>\n",
       "      <td>0.000000e+00</td>\n",
       "      <td>4.355200e+02</td>\n",
       "    </tr>\n",
       "    <tr>\n",
       "      <th>75%</th>\n",
       "      <td>6.250000e+02</td>\n",
       "      <td>3.797951e+01</td>\n",
       "      <td>2.373734e+01</td>\n",
       "      <td>2.934340e+01</td>\n",
       "      <td>2.204000e-01</td>\n",
       "      <td>6.500000e-02</td>\n",
       "      <td>6.190000e+02</td>\n",
       "    </tr>\n",
       "    <tr>\n",
       "      <th>max</th>\n",
       "      <td>9.220000e+02</td>\n",
       "      <td>3.798125e+01</td>\n",
       "      <td>2.373849e+01</td>\n",
       "      <td>1.014100e+02</td>\n",
       "      <td>4.465970e+01</td>\n",
       "      <td>2.293310e+01</td>\n",
       "      <td>8.188000e+02</td>\n",
       "    </tr>\n",
       "  </tbody>\n",
       "</table>\n",
       "</div>"
      ],
      "text/plain": [
       "           track_id           lat           lon         speed       lon_acc  \\\n",
       "count  1.446887e+06  1.446887e+06  1.446887e+06  1.446887e+06  1.446887e+06   \n",
       "mean   4.199783e+02  3.797881e+01  2.373660e+01  1.664504e+01 -4.706493e-03   \n",
       "std    2.536363e+02  9.283493e-04  8.656107e-04  1.554383e+01  8.257478e-01   \n",
       "min    1.000000e+00  3.797685e+01  2.373441e+01  0.000000e+00 -3.243770e+01   \n",
       "25%    2.000000e+02  3.797815e+01  2.373590e+01  0.000000e+00 -2.267000e-01   \n",
       "50%    4.070000e+02  3.797879e+01  2.373656e+01  1.584690e+01  0.000000e+00   \n",
       "75%    6.250000e+02  3.797951e+01  2.373734e+01  2.934340e+01  2.204000e-01   \n",
       "max    9.220000e+02  3.798125e+01  2.373849e+01  1.014100e+02  4.465970e+01   \n",
       "\n",
       "            lat_acc          time  \n",
       "count  1.446887e+06  1.446887e+06  \n",
       "mean   4.248032e-02  4.150876e+02  \n",
       "std    4.155610e-01  2.392626e+02  \n",
       "min   -8.259700e+00  0.000000e+00  \n",
       "25%   -3.090000e-02  2.008200e+02  \n",
       "50%    0.000000e+00  4.355200e+02  \n",
       "75%    6.500000e-02  6.190000e+02  \n",
       "max    2.293310e+01  8.188000e+02  "
      ]
     },
     "execution_count": 46,
     "metadata": {},
     "output_type": "execute_result"
    }
   ],
   "source": [
    "# basic statistics of timed trajectory data\n",
    "\n",
    "df_trajectory.describe()"
   ]
  },
  {
   "cell_type": "code",
   "execution_count": 47,
   "metadata": {},
   "outputs": [
    {
     "data": {
      "text/plain": [
       "True"
      ]
     },
     "execution_count": 47,
     "metadata": {},
     "output_type": "execute_result"
    }
   ],
   "source": [
    "x = df_vehicle['track_id'].unique()\n",
    "y = df_trajectory['track_id'].unique()\n",
    "all(x==y)"
   ]
  },
  {
   "cell_type": "code",
   "execution_count": 48,
   "metadata": {},
   "outputs": [],
   "source": [
    "df_1 = df_trajectory[df_trajectory['track_id'] == 1]"
   ]
  },
  {
   "cell_type": "code",
   "execution_count": null,
   "metadata": {},
   "outputs": [],
   "source": []
  }
 ],
 "metadata": {
  "kernelspec": {
   "display_name": "Python 3.10.6 ('envw5': venv)",
   "language": "python",
   "name": "python3"
  },
  "language_info": {
   "codemirror_mode": {
    "name": "ipython",
    "version": 3
   },
   "file_extension": ".py",
   "mimetype": "text/x-python",
   "name": "python",
   "nbconvert_exporter": "python",
   "pygments_lexer": "ipython3",
   "version": "3.10.6"
  },
  "orig_nbformat": 4,
  "vscode": {
   "interpreter": {
    "hash": "e8f9c0442e4ff3e42517ae4736397ba4dfe43880543bf1b5cff9f4b49fcc2a71"
   }
  }
 },
 "nbformat": 4,
 "nbformat_minor": 2
}
